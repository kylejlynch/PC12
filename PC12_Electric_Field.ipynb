{
 "cells": [
  {
   "cell_type": "markdown",
   "metadata": {
    "collapsed": true
   },
   "source": [
    "# Electric Field Growth Dependent Behavior of PC12 Neuron-analogs"
   ]
  },
  {
   "cell_type": "markdown",
   "metadata": {},
   "source": [
    "## Introduction"
   ]
  },
  {
   "cell_type": "markdown",
   "metadata": {},
   "source": [
    "This notebook will explain a portion of my master's thesis research.\n",
    "The goal of my research was to develop a way in which to expose neurons growing on the surface of a particular  material to electric fields and compare to neurons that were not subject to such stimulation. Figure 1 below shows the electrical device that I designed and constructed."
   ]
  },
  {
   "cell_type": "markdown",
   "metadata": {},
   "source": [
    "![Figure 1. Experimental Design and Electrical Device](img/expsetup.png)"
   ]
  },
  {
   "cell_type": "markdown",
   "metadata": {},
   "source": [
    "Prior to application of the electric field, I first had to coat the surface of the substrate with an extracellular matrix so that the cells would adhere. Once the cells were plated, I connected the electrical device to a voltage source for approximately 24 hrs along side of a control with no voltage."
   ]
  },
  {
   "cell_type": "markdown",
   "metadata": {},
   "source": [
    "After the 24 hr electrical stimulation, I fixed the cells for scanning electron microscopy (SEM) and imaged the samples. Imaging would result in dozens of pictures per sample per trial. I then measured neurite length and orientation using ImageJ as shown below in Figure 2. Yellow lines indicate traced neurites for length measurement. Red lines indicate angles of respective neurites to an imaginary 0 degree axis. The anode of the electrical device was located at 270 degrees in all images."
   ]
  },
  {
   "cell_type": "markdown",
   "metadata": {},
   "source": [
    "![Figure 2. Neurite Length and Angle Measurement](img/neurtrace.png)"
   ]
  },
  {
   "cell_type": "markdown",
   "metadata": {},
   "source": [
    "Each image measured generated an excel file as shown below in Figure 3. Hundreds on neurites were measured along with a lot of junk data that needed to be cleaned up before analysis could take place."
   ]
  },
  {
   "cell_type": "markdown",
   "metadata": {},
   "source": [
    "![Figure 3. Raw Data in Excel](img/neurdata.png)"
   ]
  },
  {
   "cell_type": "markdown",
   "metadata": {},
   "source": [
    "## Data Extraction and Cleaning\n",
    "\n",
    "The code below extracts the data needed from all files for 3 trials each for both experimental and control conditions."
   ]
  },
  {
   "cell_type": "markdown",
   "metadata": {},
   "source": [
    "<details>\n",
    "    <summary>Expand to See Code</summary><p>\n",
    "    \n",
    "```python\n",
    "import os\n",
    "import numpy as np\n",
    "import pandas as pd\n",
    "\n",
    "trialdata=[]\n",
    "def neurimport() :\n",
    "    listing = os.listdir(path)\n",
    "    for file in listing :\n",
    "        handle = open(os.path.join(path,file) , 'r')\n",
    "        #extract data\n",
    "        dfraw = pd.read_csv(handle)\n",
    "        if float(dfraw.loc[ : (dfraw['Angle'].count()/2)-1,\n",
    "                           ['Angle']].sum()) != 0:\n",
    "            #delete unwanted data\n",
    "            dfdata = dfraw.loc[ : (dfraw['Angle'].count()/2)-1, \n",
    "                               ['Angle']].reset_index(drop=True)\n",
    "            dfdata['Length'] = dfraw.loc[(dfraw['Length'].count()/2) : , \n",
    "                              ['Length']].reset_index(drop=True)\n",
    "        #correction in case angles were measured first\n",
    "        if float(dfraw.loc[ : (dfraw['Angle'].count()/2)-1,\n",
    "                           ['Angle']].sum()) == 0:\n",
    "            #delete unwanted data\n",
    "            dfdata = dfraw.loc[(dfraw['Angle'].count()/2) : , \n",
    "                               ['Angle']].reset_index(drop=True)\n",
    "            dfdata['Length'] = dfraw.loc[ : (dfraw['Length'].count()/2), \n",
    "                              ['Length']].reset_index(drop=True)\n",
    "        #convert negative angles\n",
    "        dfdata['Angle'] = dfdata['Angle'].apply(lambda x : \n",
    "                                                x + 360 if x < 0 else x)\n",
    "        #conversion to radians\n",
    "        dfdata['Angle'] = dfdata['Angle'].apply(lambda x : np.radians(x))\n",
    "        #vector components\n",
    "        dfdata['Lcos'] = np.cos(dfdata['Angle']) * dfdata['Length']\n",
    "        dfdata['Lsin'] = np.sin(dfdata['Angle']) * dfdata['Length']\n",
    "        g = dfdata.groupby(3.1415>dfdata['Angle'])['Length'].mean()\n",
    "        dflgroup = pd.Series(g.values, index=['Anode','Cathode'])\n",
    "        trialdata.append(dfdata)\n",
    "\n",
    "#Trial 1\n",
    "path = 'Neurite_data/csv/15V PCSA/1/'\n",
    "a = neurimport()\n",
    "dftrial = pd.concat(trialdata)\n",
    "pcsa15V = {\n",
    "            'Avg Length' : dftrial['Length'].mean(), \n",
    "            'Lcos' : dftrial['Lcos'].mean(),\n",
    "            'Lsin' : dftrial['Lsin'].mean(),\n",
    "           }\n",
    "df = pd.DataFrame(pcsa15V, index=['Trial 1'])\n",
    "\n",
    "trialdata=[]\n",
    "del dftrial\n",
    "\n",
    "#Trial 2\n",
    "path = 'Neurite_data/csv/15V PCSA/2/'\n",
    "a = neurimport()\n",
    "dftrial = pd.concat(trialdata)\n",
    "pcsa15V = {\n",
    "            'Avg Length' : dftrial['Length'].mean(), \n",
    "            'Lcos' : dftrial['Lcos'].mean(),\n",
    "            'Lsin' : dftrial['Lsin'].mean(),\n",
    "           }\n",
    "df.loc['Trial 2'] = pcsa15V\n",
    "\n",
    "trialdata=[]\n",
    "del dftrial\n",
    "\n",
    "#Trial 3\n",
    "path = 'Neurite_data/csv/15V PCSA/3/'\n",
    "a = neurimport()\n",
    "dftrial = pd.concat(trialdata)\n",
    "pcsa15V = {\n",
    "            'Avg Length' : dftrial['Length'].mean(), \n",
    "            'Lcos' : dftrial['Lcos'].mean(),\n",
    "            'Lsin' : dftrial['Lsin'].mean(),\n",
    "           }\n",
    "df.loc['Trial 3'] = pcsa15V\n",
    "\n",
    "trialdata=[]\n",
    "del dftrial\n",
    "\n",
    "#Trial 1\n",
    "path = 'Neurite_data/csv/0V PCSA/1/'\n",
    "a = neurimport()\n",
    "dftrial = pd.concat(trialdata)\n",
    "pcsa0V = {\n",
    "            'Avg Length' : dftrial['Length'].mean(), \n",
    "            'Lcos' : dftrial['Lcos'].mean(),\n",
    "            'Lsin' : dftrial['Lsin'].mean(),\n",
    "           }\n",
    "df2 = pd.DataFrame(pcsa0V, index=['Trial 1'])\n",
    "\n",
    "trialdata=[]\n",
    "del dftrial\n",
    "\n",
    "#Trial 2\n",
    "path = 'Neurite_data/csv/0V PCSA/2/'\n",
    "a = neurimport()\n",
    "dftrial = pd.concat(trialdata)\n",
    "pcsa0V = {\n",
    "            'Avg Length' : dftrial['Length'].mean(), \n",
    "            'Lcos' : dftrial['Lcos'].mean(),\n",
    "            'Lsin' : dftrial['Lsin'].mean(),\n",
    "           }\n",
    "df2.loc['Trial 2'] = pcsa0V\n",
    "\n",
    "trialdata=[]\n",
    "del dftrial\n",
    "\n",
    "#Trial 3\n",
    "path = 'Neurite_data/csv/0V PCSA/3/'\n",
    "a = neurimport()\n",
    "dftrial = pd.concat(trialdata)\n",
    "pcsa0V = {\n",
    "            'Avg Length' : dftrial['Length'].mean(), \n",
    "            'Lcos' : dftrial['Lcos'].mean(),\n",
    "            'Lsin' : dftrial['Lsin'].mean(),\n",
    "           }\n",
    "df2.loc['Trial 3'] = pcsa0V\n",
    "\n",
    "trialdata=[]\n",
    "del dftrial\n",
    "```\n",
    "</p></details>"
   ]
  },
  {
   "cell_type": "markdown",
   "metadata": {},
   "source": [
    "## Statistics\n",
    "\n",
    "The code below computes averages and standard error in preparation for plotting."
   ]
  },
  {
   "cell_type": "markdown",
   "metadata": {},
   "source": [
    "<details>\n",
    "    <summary>Expand to See Code</summary><p>\n",
    "\n",
    "```python\n",
    "#Statistics\n",
    "print('===15V PCSA===')\n",
    "avgpcsa15_length = df['Avg Length'].mean()\n",
    "pcsa15_sem = df['Avg Length'].sem(ddof=0)\n",
    "#avgpcsa15_lcathode = df['Lcathode'].mean()\n",
    "#pcsa15_lcathode_sem = df['Lcathode'].sem(ddof=0)\n",
    "#avgpcsa15_lanode = df['Lanode'].mean()\n",
    "#pcsa15_lanode_sem = df['Lanode'].sem(ddof=0)\n",
    "avgpcsa15_lsin = df['Lsin'].mean()\n",
    "pcsa15_lsin_sem = df['Lsin'].sem(ddof=0)\n",
    "avgpcsa15_lcos = df['Lcos'].mean()\n",
    "pcsa15_lcos_sem = df['Lcos'].sem(ddof=0)\n",
    "print('Average of',len(df['Avg Length']), 'Trials :', avgpcsa15_length, '+/-',\n",
    "      pcsa15_sem)\n",
    "#print('Average cathodal :', avgpcsa15_lcathode, '+/-', pcsa15_lcathode_sem)\n",
    "#print('Average anodal :', avgpcsa15_lanode, '+/-', pcsa15_lanode_sem)\n",
    "\n",
    "print('===0V PCSA===')\n",
    "avgpcsa0_length = df2['Avg Length'].mean()\n",
    "pcsa0_sem = df2['Avg Length'].sem(ddof=0)\n",
    "#avgpcsa0_lcathode = df2['Lcathode'].mean()\n",
    "#pcsa0_lcathode_sem = df2['Lcathode'].sem(ddof=0)\n",
    "#avgpcsa0_lanode = df2['Lanode'].mean()\n",
    "#pcsa0_lanode_sem = df2['Lanode'].sem(ddof=0)\n",
    "avgpcsa0_lsin = df2['Lsin'].mean()\n",
    "pcsa0_lsin_sem = df2['Lsin'].sem(ddof=0)\n",
    "avgpcsa0_lcos = df2['Lcos'].mean()\n",
    "pcsa0_lcos_sem = df2['Lcos'].sem(ddof=0)\n",
    "print('Average of',len(df2['Avg Length']), 'Trials :', avgpcsa0_length, '+/-',\n",
    "      pcsa0_sem)\n",
    "#print('Average cathodal :', avgpcsa0_lcathode, '+/-', pcsa0_lcathode_sem)\n",
    "#print('Average anodal :', avgpcsa0_lanode, '+/-', pcsa0_lanode_sem)\n",
    "print('===T-Tests===')\n",
    "from scipy import stats\n",
    "lenstats = stats.ttest_ind(df['Avg Length'], df2['Avg Length'], equal_var=True)\n",
    "biasstats_sin = stats.ttest_ind(df['Lsin'], df2['Lsin'], equal_var=True)\n",
    "biasstats_cos = stats.ttest_ind(df['Lcos'], df2['Lcos'], equal_var=True)\n",
    "print(lenstats)\n",
    "print(biasstats_sin)\n",
    "print(biasstats_cos)\n",
    "```\n",
    "</p></details>"
   ]
  },
  {
   "cell_type": "markdown",
   "metadata": {},
   "source": [
    "## Plotting\n",
    "\n",
    "The code below produces plots with error bars (standard error of the mean) and significance  (p values)."
   ]
  },
  {
   "cell_type": "markdown",
   "metadata": {},
   "source": [
    "<details>\n",
    "    <summary>Expand to See Code</summary><p>\n",
    "\n",
    "```python\n",
    "#plotting\n",
    "import matplotlib.pyplot as plt\n",
    "n_groups = 1\n",
    "fig, ax = plt.subplots()\n",
    "index = np.arange(n_groups)\n",
    "bar_width = 0.5\n",
    "opacity = 0.7\n",
    "error_config = {'ecolor': '0.1', 'capsize' : 3}\n",
    "data = (avgpcsa15_length, avgpcsa0_length, avgpcsa15_length, avgpcsa0_length)\n",
    "rects1 = plt.bar(index, avgpcsa15_length, bar_width,\n",
    "                 alpha=opacity,\n",
    "                 color='r',\n",
    "                 yerr=pcsa15_sem,\n",
    "                 error_kw=error_config,\n",
    "                 label='15V PCSA')\n",
    "rects2 = plt.bar(index + 1.25*bar_width, avgpcsa0_length, bar_width,\n",
    "                 alpha=opacity,\n",
    "                 color='b',\n",
    "                 yerr=pcsa0_sem,\n",
    "                 error_kw=error_config,\n",
    "                 label='0V PCSA')\n",
    "\n",
    "plt.annotate(\"\", xy=(0.0, 62.6), xycoords='data',\n",
    "           xytext=(0.625, 62.6), textcoords='data',\n",
    "           arrowprops=dict(arrowstyle=\"-\", ec='black',\n",
    "                           connectionstyle=\"bar,fraction=1.09\", \n",
    "                           shrinkA=0, shrinkB=66))\n",
    "plt.text(0.30, 70.7, 'p<0.05',\n",
    "       horizontalalignment='center',\n",
    "       verticalalignment='center')\n",
    "\n",
    "plt.axis([-1.25,2,50,75])\n",
    "plt.xlabel('')\n",
    "plt.ylabel(u'Average Neurite Length (${\\mu}m$)', fontsize = 12)\n",
    "plt.title('')\n",
    "plt.xticks([])\n",
    "plt.legend()\n",
    "plt.tight_layout()\n",
    "plt.show()\n",
    "fig.savefig('length.png', dpi=300)\n",
    "plt.close()\n",
    "\n",
    "\n",
    "fig, (ax1, ax2) = plt.subplots(figsize=(6.2,4), ncols=2)\n",
    "index = np.arange(1)\n",
    "bar_width = 0.5\n",
    "opacity = 0.7\n",
    "error_config = {'ecolor': '0.1', 'capsize' : 3}\n",
    "\n",
    "ax1.barh(index, avgpcsa15_lcos, bar_width,\n",
    "        alpha=opacity,\n",
    "        color='r',\n",
    "        xerr=pcsa15_lcos_sem,\n",
    "        error_kw=error_config,\n",
    "        label='15V PCSA')\n",
    "ax1.barh(index + 1.25*bar_width, avgpcsa0_lcos, bar_width,\n",
    "        alpha=opacity,\n",
    "        color='b',\n",
    "        xerr=pcsa0_lcos_sem,\n",
    "        error_kw=error_config,\n",
    "        label='0V PCSA')\n",
    "ax1.set_yticks([])\n",
    "ax1.set_xticks([-0.5,0,0.5,1,1.5])\n",
    "\n",
    "ax2.bar(index, avgpcsa15_lsin, bar_width,\n",
    "        alpha=opacity,\n",
    "        color='r',\n",
    "        yerr=avgpcsa0_lsin,\n",
    "        error_kw=error_config,\n",
    "        label='15V PCSA')\n",
    "ax2.bar(index + 1.25*bar_width, avgpcsa0_lsin, bar_width,\n",
    "        alpha=opacity,\n",
    "        color='b',\n",
    "        yerr=pcsa0_lsin_sem,\n",
    "        error_kw=error_config,\n",
    "        label='0V PCSA')\n",
    "ax2.axis([-0.3,0.9,-11.5,1])\n",
    "ax2.set_xticks([0.3])\n",
    "ax2.tick_params(axis='x', colors='white')\n",
    "\n",
    "ax1.axvline(0, color='black', lw=1)\n",
    "ax2.axhline(0, color='black',lw=1)\n",
    "\n",
    "plt.annotate(\"\", xy=(0.625, -2.3), xycoords='data',\n",
    "           xytext=(0, -2.3), textcoords='data',\n",
    "           arrowprops=dict(arrowstyle=\"-\", ec='black',\n",
    "                           connectionstyle=\"bar,fraction=1.73\", \n",
    "                           shrinkA=132, shrinkB=0))\n",
    "ax2.text(0.3, -10.85, 'p<0.05',\n",
    "       horizontalalignment='center',\n",
    "       verticalalignment='center')\n",
    "\n",
    "bbox_props = dict(boxstyle=\"rarrow,pad=0.25\", fc=\"white\", ec=\"black\", lw=2)\n",
    "t = ax2.text(1.08, -5.2, \"    Electric Field    \", ha=\"center\", va=\"center\", \n",
    "            rotation=-90, size=15, bbox=bbox_props)\n",
    "bbox_props = dict(boxstyle=\"rarrow,pad=0.25\", fc=\"white\", ec=\"black\", lw=2)\n",
    "t = ax1.text(-0.9, 0.32, \"    Electric Field    \", ha=\"center\", va=\"center\", \n",
    "            rotation=-90, size=15, bbox=bbox_props)\n",
    "\n",
    "ax1.set_xlabel('Perpendicular Bias')\n",
    "ax2.set_xlabel('Parallel Bias')\n",
    "plt.text(-1.4, 1.45, 'Growth Dependent Response to E-Field', dict(size=12))\n",
    "\n",
    "fig.legend(bbox_to_anchor=[0.94, 1.03])\n",
    "plt.show()\n",
    "fig.savefig('bias.png', bbox_inches = 'tight', dpi=300)\n",
    "plt.close('all')\n",
    "```\n",
    "</p></details>"
   ]
  },
  {
   "cell_type": "markdown",
   "metadata": {},
   "source": [
    "![Figure 4. Average Neurite Length](img/length.png)"
   ]
  },
  {
   "cell_type": "markdown",
   "metadata": {
    "collapsed": true
   },
   "source": [
    "![Figure 5. Bias or Directional Preference](img/bias.png)"
   ]
  },
  {
   "cell_type": "markdown",
   "metadata": {
    "collapsed": true
   },
   "source": [
    "## Conculsion\n",
    "\n",
    "Electric field stimulation resulted in PC12 growing longer neurites overall (Figure 4). More importantly, I have shown that neurites growing toward the anode  of the device (parallel to the electric field) grew longer than those growing perpendicularly (at 90 degree angles) to the field (Figure 5)."
   ]
  }
 ],
 "metadata": {
  "kernelspec": {
   "display_name": "Python 3",
   "language": "python",
   "name": "python3"
  },
  "language_info": {
   "codemirror_mode": {
    "name": "ipython",
    "version": 3
   },
   "file_extension": ".py",
   "mimetype": "text/x-python",
   "name": "python",
   "nbconvert_exporter": "python",
   "pygments_lexer": "ipython3",
   "version": "3.6.3"
  }
 },
 "nbformat": 4,
 "nbformat_minor": 2
}
